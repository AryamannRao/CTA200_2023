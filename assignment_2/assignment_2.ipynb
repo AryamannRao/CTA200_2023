{
 "cells": [
  {
   "cell_type": "code",
   "execution_count": 1,
   "id": "18dbab94",
   "metadata": {},
   "outputs": [],
   "source": [
    "import numpy as np"
   ]
  },
  {
   "cell_type": "markdown",
   "id": "32fbcb7d",
   "metadata": {},
   "source": [
    "# Part 1"
   ]
  },
  {
   "cell_type": "code",
   "execution_count": 2,
   "id": "d236e44b",
   "metadata": {},
   "outputs": [],
   "source": [
    "def f(x):\n",
    "    return x**3-x**2-1\n",
    "\n",
    "def df(x):\n",
    "    return 3*(x**2)-2*x"
   ]
  },
  {
   "cell_type": "markdown",
   "id": "bf912a77",
   "metadata": {},
   "source": [
    "# Part 2"
   ]
  },
  {
   "cell_type": "code",
   "execution_count": 3,
   "id": "79c5d5ee",
   "metadata": {},
   "outputs": [],
   "source": [
    "def newton(f, df, x0, epsilon=1e-6, max_iter=30):\n",
    "    \"\"\" For a given function and its derivative, computes the root of the function\n",
    "    using Newton's method.\n",
    "    \n",
    "    Parameters:\n",
    "        f: function\n",
    "            A function that evaluates at any number x.\n",
    "        df: function\n",
    "            The derivative of f that evaluates at any number x.\n",
    "        x0: float \n",
    "            Initial estimate for zero of f \n",
    "        epsilon: float, default=1e-6\n",
    "                The value that determines how good of an estimate we need \n",
    "                for the zero of f.\n",
    "        max_iter: int, default=30\n",
    "                The maximum number of iterations allowed for Newton's method.\n",
    "                \n",
    "    Returns:\n",
    "        x: float\n",
    "            Estimate of zero of f based on Newton's method. 'None' is returned if\n",
    "            Newton's method does not converge in max_iter iterations.\n",
    "    \"\"\"\n",
    "    x = x0\n",
    "    i = 1\n",
    "    while np.abs(f(x)) > epsilon and i <= max_iter:\n",
    "        x = x - f(x)/df(x)\n",
    "        i += 1\n",
    "        \n",
    "    if np.abs(f(x)) < epsilon:\n",
    "        print('Found root in', i, 'iterations.')\n",
    "        return x\n",
    "    else:\n",
    "        print('Iteration Failed')\n",
    "        return None"
   ]
  },
  {
   "cell_type": "markdown",
   "id": "d033ead8",
   "metadata": {},
   "source": [
    "# Part 3"
   ]
  },
  {
   "cell_type": "code",
   "execution_count": 7,
   "id": "44add6ec",
   "metadata": {},
   "outputs": [
    {
     "name": "stdout",
     "output_type": "stream",
     "text": [
      "Found root in 5 iterations.\n",
      "The estimated root of f when x0 = 2 is 1.4655713749070918 .\n",
      "Found root in 25 iterations.\n",
      "The estimated root of f when x0 = -2 is 1.465571232065954 .\n"
     ]
    }
   ],
   "source": [
    "x0 = 2\n",
    "root = newton(f, df, x0)\n",
    "print('The estimated root of f when x0 =', x0, 'is', root, '.')\n",
    "\n",
    "x0 = -2\n",
    "root = newton(f, df, x0)\n",
    "print('The estimated root of f when x0 =', x0, 'is', root, '.')"
   ]
  },
  {
   "cell_type": "code",
   "execution_count": 9,
   "id": "23c0943d",
   "metadata": {},
   "outputs": [
    {
     "name": "stdout",
     "output_type": "stream",
     "text": [
      "Found root in 6 iterations.\n",
      "The estimated root of f when x0 = 2 is 1.4655712318767877 .\n",
      "Found root in 25 iterations.\n",
      "The estimated root of f when x0 = -2 is 1.465571232065954 .\n"
     ]
    }
   ],
   "source": [
    "# Trying the same with epsilon = 1e-8\n",
    "\n",
    "x0 = 2\n",
    "root = newton(f, df, x0, epsilon=1e-8)\n",
    "print('The estimated root of f when x0 =', x0, 'is', root, '.')\n",
    "\n",
    "x0 = -2\n",
    "root = newton(f, df, x0, epsilon=1e-8)\n",
    "print('The estimated root of f when x0 =', x0, 'is', root, '.')\n",
    "\n",
    "#The number of iterations increases by 1 for x0 = 2 but does not change for x0 = -2."
   ]
  },
  {
   "cell_type": "code",
   "execution_count": null,
   "id": "fd6f4f07",
   "metadata": {},
   "outputs": [],
   "source": []
  }
 ],
 "metadata": {
  "kernelspec": {
   "display_name": "Python 3 (ipykernel)",
   "language": "python",
   "name": "python3"
  },
  "language_info": {
   "codemirror_mode": {
    "name": "ipython",
    "version": 3
   },
   "file_extension": ".py",
   "mimetype": "text/x-python",
   "name": "python",
   "nbconvert_exporter": "python",
   "pygments_lexer": "ipython3",
   "version": "3.9.13"
  }
 },
 "nbformat": 4,
 "nbformat_minor": 5
}
